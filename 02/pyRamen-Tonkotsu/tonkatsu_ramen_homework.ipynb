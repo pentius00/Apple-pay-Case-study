{
 "cells": [
  {
   "cell_type": "code",
   "execution_count": 656,
   "id": "a9f295d7",
   "metadata": {},
   "outputs": [],
   "source": [
    "# -*- coding: UTF-8 -*-\n",
    "#\"\"\"PyRamen Homework Starter.\"\"\"\n",
    "\n",
    "# @TODO: Import libraries\n",
    "import csv\n",
    "from pathlib import Path\n",
    "import datetime as dt\n",
    "\n",
    "# @TODO: Set file paths for menu_data.csv and sales_data.csv\n",
    "menu_filepath = Path('Resources/menu_data.csv')\n",
    "sales_filepath = Path('Resources/sales_data.csv')\n",
    "\n",
    "with open(menu_filepath,encoding=\"utf8\") as file_path:\n",
    "    reader = csv.reader(file_path)\n",
    "    header = next(reader)\n",
    "#row = [str()'item[0]', str()'category[1]', 'str()description[2]', 'int()price[3]', 'int()cost[4]']\n",
    "    for row in reader:\n",
    "        items = str(row[0])\n",
    "        category = str(row[1])\n",
    "        description = str(row[2])\n",
    "        price = float(row[3])\n",
    "        cost = float(row[4])\n",
    "        filtered_data.append([items, category, description, price, cost])\n",
    "        \n",
    "# @TODO: Initialize list objects to hold our menu and sales data\n",
    "    filtered_data = [items, category, description, price, cost]"
   ]
  },
  {
   "cell_type": "code",
   "execution_count": 657,
   "id": "6a0b9798",
   "metadata": {},
   "outputs": [
    {
     "data": {
      "text/plain": [
       "[]"
      ]
     },
     "execution_count": 657,
     "metadata": {},
     "output_type": "execute_result"
    }
   ],
   "source": [
    "##____________________________________________________________________________________________##\n",
    "\n",
    "\n",
    "# @TODO: Read in the sales data into the sales list\n",
    "\n",
    "with open(sales_filepath,encoding=\"utf8\") as file_path:\n",
    "    reader = csv.reader(file_path)\n",
    "    header = next(reader)\n",
    "    \n",
    "# row = ['str()counter[0]', 'date()date[1]', 'str()credit_card_number[2]', '[int()quantity[3], 'str()menu_item[4]']\n",
    "    for row in reader:\n",
    "        counter = (row[0])\n",
    "        dates = (row[1])\n",
    "        CD_list = str(row[2])\n",
    "        quantity = float(row[3])\n",
    "        menu_item = str(row[4])\n",
    "        filtered_fincancial_data.append([counter, dates, CD_list, quantity, menu_item])\n",
    "    \n",
    "        \n",
    "        \n",
    "filtered_fincancial_data = [counter, dates, CD_list, quantity, menu_item]\n",
    "\n",
    "\n",
    "\n",
    "# @TODO: For every row in our sales data, loop over the menu records to determine a match\n",
    "\n",
    "\n",
    "matches = []\n",
    "\n",
    "\n",
    "def find_match(): \n",
    "    for item in filtered_data:\n",
    "        for item2 in filtered_fincancial_data:\n",
    "            if filtered_data[4] == filtered_fincancial_data[0]:\n",
    "                        matches.append(filtered_fincancial_data)\n",
    "        return matches\n",
    "find_match()\n",
    "    \n",
    "#####Item,Category,Description,Price,Cost\n",
    "##### @TODO: Initialize menu data variables\n",
    "\n",
    "###### @TODO: Calculate profit of each item in the menu da\n",
    "\n",
    "    \n",
    "    \n",
    "    \n",
    "\n",
    "\n",
    "### @TODO: If the item value in our sales data is equal to the any of the items in the menu, then begin tracking me\n",
    "####trics for that item"
   ]
  },
  {
   "cell_type": "code",
   "execution_count": 658,
   "id": "62353847",
   "metadata": {},
   "outputs": [
    {
     "name": "stdout",
     "output_type": "stream",
     "text": [
      "\n"
     ]
    }
   ],
   "source": [
    "            # @TODO: Print out matching menu data\n",
    "\n",
    "\n",
    "\n",
    "\n",
    "\n",
    "\n",
    "            # @TODO: Cumulatively add up the metrics for each item key\n",
    "\n",
    "\n",
    "\n",
    "\n",
    "\n",
    "        # @TODO: Else, the sales item does not equal any fo the item in the menu data, therefore no match\n",
    "\n",
    "\n",
    "\n",
    "    # @TODO: Increment the row counter by 1\n",
    "\n",
    "\n",
    "# @TODO: Print total number of records in sales data\n",
    "print()\n",
    "\n",
    "\n",
    "\n",
    "#### @TODO: Write out report to a text file (won't appear on the command line output)"
   ]
  },
  {
   "cell_type": "code",
   "execution_count": 670,
   "id": "9fd7d624",
   "metadata": {},
   "outputs": [
    {
     "name": "stdout",
     "output_type": "stream",
     "text": [
      "[]\n"
     ]
    }
   ],
   "source": [
    "counter = 0\n",
    "sun = []\n",
    "\n",
    "for line in filtered_data:\n",
    "    for i in filtered_fincancial_data:\n",
    "        if items == menu_item:\n",
    "            items + str(counter)\n",
    "        elif quantity > 0:\n",
    "            total_imcome = price * quantity - cost\n",
    "        else:\n",
    "            counter +=1\n",
    "print(sun)\n",
    "    "
   ]
  },
  {
   "cell_type": "code",
   "execution_count": 671,
   "id": "29a28628",
   "metadata": {},
   "outputs": [],
   "source": [
    "for i in sun:\n",
    "    print(i)"
   ]
  },
  {
   "cell_type": "code",
   "execution_count": 645,
   "id": "cf45f201",
   "metadata": {},
   "outputs": [],
   "source": []
  },
  {
   "cell_type": "code",
   "execution_count": 640,
   "id": "bdf09b21",
   "metadata": {},
   "outputs": [],
   "source": []
  },
  {
   "cell_type": "code",
   "execution_count": null,
   "id": "e3baba54",
   "metadata": {},
   "outputs": [],
   "source": []
  }
 ],
 "metadata": {
  "kernelspec": {
   "display_name": "Python 3 (ipykernel)",
   "language": "python",
   "name": "python3"
  },
  "language_info": {
   "codemirror_mode": {
    "name": "ipython",
    "version": 3
   },
   "file_extension": ".py",
   "mimetype": "text/x-python",
   "name": "python",
   "nbconvert_exporter": "python",
   "pygments_lexer": "ipython3",
   "version": "3.9.7"
  }
 },
 "nbformat": 4,
 "nbformat_minor": 5
}
