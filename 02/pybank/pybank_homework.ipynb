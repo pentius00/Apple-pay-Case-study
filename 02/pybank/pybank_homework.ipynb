{
 "cells": [
  {
   "cell_type": "code",
   "execution_count": 810,
   "id": "909f3545-6f30-4022-b10f-c71d3f36a937",
   "metadata": {},
   "outputs": [
    {
     "name": "stdout",
     "output_type": "stream",
     "text": [
      "Total $:38382578\n",
      "Total Months is:86\n",
      "the mayor increase in profit :Feb-2017  $:2366818.0\n",
      "the mayor decrease in profit:Feb-2017  $:-1867324.0\n",
      "the average changes per monthis is $:5189\n",
      "done.\n"
     ]
    }
   ],
   "source": [
    "import csv\n",
    "date_list = []\n",
    "profit_list = []\n",
    "\n",
    "with open(\"../PyBank/Resources/budget_data.csv\",\"r\") as f:\n",
    "    reader = csv.reader(f,delimiter=\",\")\n",
    "    #enumarade = csv.enumerate(datelist))\n",
    "    header = next(reader)\n",
    "    sum_ = 0\n",
    "    total_rows = 0\n",
    "    increase = 0\n",
    "    decrease = 0\n",
    "    numbers = []\n",
    "    e_date = enumerate(date_list)\n",
    "    e_number = enumerate(numbers)\n",
    "    \n",
    "    \n",
    "    \n",
    "###create a row counter and a row reader\n",
    "    \n",
    "    for date, profit in reader:\n",
    "        date_list.append(str(date))\n",
    "        profit_list.append(profit)\n",
    "        # Convert the number in the text file from string to int\n",
    "        numbers.append(float(profit))\n",
    "        # Sum the total and count of the numbers in the text file\n",
    "        sum_ += int(profit)\n",
    "        total_rows +=1\n",
    "        average = (sum_ / total_rows) / len(date_list)\n",
    "        #for i in range(len(profit))\n",
    "    print(f'Total $:{sum_}')\n",
    "    print(f'Total Months is:{len(date_list)}') \n",
    "    \n",
    "         \n",
    " #The total number of months included in the dataset.\n",
    "    for date in date_list :\n",
    "        for i in range(len(numbers)):\n",
    "            for n in range(len(numbers) -1):\n",
    "                if numbers[n - i] - numbers[i] > increase:\n",
    "                    increase = numbers[n - i] - numbers[i]\n",
    "               \n",
    "                    \n",
    "\n",
    "    \n",
    "    \n",
    "    print(f'the mayor increase in profit :{date}  $:{increase}')\n",
    "   \n",
    "    for date in date_list:\n",
    "        for i in range(len(numbers)):\n",
    "            for n in range(len(numbers)-1):\n",
    "                if numbers[i - n] - numbers[n] < decrease:\n",
    "                    decrease = numbers[i - n] - numbers[i]\n",
    "                        \n",
    "                        \n",
    "\n",
    "    \n",
    "    \n",
    "    print(f'the mayor decrease in profit:{date}  $:{decrease}')\n",
    "    \n",
    "    \n",
    "print(f'the average changes per monthis is $:{int(average)}')\n",
    "print(\"done.\")\n",
    "\n",
    "##I could not figure out how to relate the month to the increase"
   ]
  },
  {
   "cell_type": "code",
   "execution_count": 738,
   "id": "826c91a4-fb18-4299-a29b-740c4198250e",
   "metadata": {},
   "outputs": [
    {
     "ename": "SyntaxError",
     "evalue": "invalid syntax (Temp/ipykernel_23376/3003659022.py, line 1)",
     "output_type": "error",
     "traceback": [
      "\u001b[1;36m  File \u001b[1;32m\"C:\\Users\\penti\\AppData\\Local\\Temp/ipykernel_23376/3003659022.py\"\u001b[1;36m, line \u001b[1;32m1\u001b[0m\n\u001b[1;33m    The greatest decrease in losses (date and amount) over the entire period.\u001b[0m\n\u001b[1;37m        ^\u001b[0m\n\u001b[1;31mSyntaxError\u001b[0m\u001b[1;31m:\u001b[0m invalid syntax\n"
     ]
    }
   ],
   "source": [
    " The greatest decrease in losses (date and amount) over the entire period.\n",
    "\n",
    "Your resulting analysis should look similar to the following:\n",
    "\n",
    "  ```text\n",
    "  Financial Analysis\n",
    "  ----------------------------\n",
    "  Total Months: 86\n",
    "  Total: $38382578\n",
    "  Average  Change: $-2315.12\n",
    "  Greatest Increase in Profits: Feb-2012 ($1926159)\n",
    "  Greatest Decrease in Profits: Sep-2013 ($-2196167)\n",
    "  ```"
   ]
  }
 ],
 "metadata": {
  "kernelspec": {
   "display_name": "Python 3 (ipykernel)",
   "language": "python",
   "name": "python3"
  },
  "language_info": {
   "codemirror_mode": {
    "name": "ipython",
    "version": 3
   },
   "file_extension": ".py",
   "mimetype": "text/x-python",
   "name": "python",
   "nbconvert_exporter": "python",
   "pygments_lexer": "ipython3",
   "version": "3.9.7"
  }
 },
 "nbformat": 4,
 "nbformat_minor": 5
}
